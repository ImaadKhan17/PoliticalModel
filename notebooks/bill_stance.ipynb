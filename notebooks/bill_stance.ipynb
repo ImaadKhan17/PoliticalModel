{
 "cells": [
  {
   "cell_type": "code",
   "execution_count": 2,
   "metadata": {},
   "outputs": [],
   "source": [
    "import pandas as pd\n",
    "\n",
    "bills = pd.read_csv(\"stance_datasets/bills.csv\")\n",
    "roll = pd.read_csv(\"stance_datasets/rollcalls.csv\")\n",
    "spons = pd.read_csv(\"stance_datasets/sponsors.csv\")\n",
    "votes = pd.read_csv(\"stance_datasets/votes.csv\")\n",
    "ppl = pd.read_csv(\"stance_datasets/people.csv\")\n",
    "\n",
    "\n",
    "people_w_p = pd.Series(ppl[\"party\"].values, index=ppl[\"people_id\"])\n",
    "\n"
   ]
  },
  {
   "cell_type": "code",
   "execution_count": 18,
   "metadata": {},
   "outputs": [],
   "source": [
    "class Bill():\n",
    "    def __init__(self, bill_number, congress):\n",
    "        self.bill_number = bill_number\n",
    "        self.congress = congress\n",
    "        self.bill_id = bill_id = bills.loc[bills[\"bill_number\"]==bill_number][\"bill_id\"].values[0]\n",
    "        \n",
    "    def get_party(self,id):\n",
    "        return people_w_p[id]\n",
    "\n",
    "    def get_sponsors_party_percent(self):\n",
    "        self.sponsors = spons.loc[spons[\"bill_id\"]==self.bill_id].values[:,1]\n",
    "        d_count, r_count = self.counter(self.sponsors)\n",
    "\n",
    "        percent_r =r_count/len(self.sponsors)\n",
    "        percent_d = d_count/len(self.sponsors)\n",
    "\n",
    "        return(percent_d, -percent_r)\n",
    "\n",
    "\n",
    "    def counter(self, people_list):\n",
    "        d_count = 0\n",
    "        r_count = 0\n",
    "        for person in people_list:\n",
    "            if(self.get_party(person) == \"R\"):\n",
    "                r_count+=1\n",
    "            elif(self.get_party(person) == \"D\"):\n",
    "                d_count+=1\n",
    "\n",
    "        return(d_count, r_count)\n",
    "\n",
    "    def get_percent_votes(self):\n",
    "        roll_id = max(roll.loc[roll[\"bill_id\"]==self.bill_id][\"roll_call_id\"].values)\n",
    "        votes_yay = votes.loc[(votes[\"roll_call_id\"]==roll_id) & (votes[\"vote\"]==1)].values[:,1]\n",
    "\n",
    "        d_count, r_count = self.counter(votes_yay)\n",
    "        \n",
    "        percent_r = r_count/len(votes_yay)\n",
    "        percent_d = d_count/len(votes_yay)\n",
    "\n",
    "        return (percent_d, -percent_r)\n",
    "\n",
    "    def get_stance(self):\n",
    "        spon_percent = self.get_sponsors_party_percent()\n",
    "        cong_percent = self.get_percent_votes()\n",
    "\n",
    "        weight_sponsor = 0.7\n",
    "        weight_voter = 1-weight_sponsor\n",
    "\n",
    "        percent_d = round((weight_sponsor * spon_percent[0] + weight_voter * cong_percent[0])*1000)/1000\n",
    "        percent_r = round((weight_sponsor * spon_percent[1] + weight_voter * cong_percent[1])*1000)/1000\n",
    "\n",
    "        print((percent_d, percent_r))\n",
    "\n",
    "        return (percent_d, percent_r)\n",
    "\n",
    "    "
   ]
  },
  {
   "cell_type": "code",
   "execution_count": 19,
   "metadata": {},
   "outputs": [
    {
     "name": "stdout",
     "output_type": "stream",
     "text": [
      "(0.0, -1.0)\n",
      "(0.017777777777777778, -0.9822222222222222)\n",
      "(0.005, -0.995)\n",
      "(0.005, -0.995)\n"
     ]
    }
   ],
   "source": [
    "hb1 = Bill(\"HB1\", \"118\")\n",
    "print(hb1.get_sponsors_party_percent())\n",
    "print(hb1.get_percent_votes())\n",
    "print(hb1.get_stance())"
   ]
  }
 ],
 "metadata": {
  "kernelspec": {
   "display_name": "Python 3",
   "language": "python",
   "name": "python3"
  },
  "language_info": {
   "codemirror_mode": {
    "name": "ipython",
    "version": 3
   },
   "file_extension": ".py",
   "mimetype": "text/x-python",
   "name": "python",
   "nbconvert_exporter": "python",
   "pygments_lexer": "ipython3",
   "version": "3.12.4"
  }
 },
 "nbformat": 4,
 "nbformat_minor": 2
}
